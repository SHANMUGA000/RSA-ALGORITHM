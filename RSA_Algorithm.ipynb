{
  "nbformat": 4,
  "nbformat_minor": 0,
  "metadata": {
    "colab": {
      "provenance": [],
      "authorship_tag": "ABX9TyOyiqF8Reb3hSCW6IS5CJ1B",
      "include_colab_link": true
    },
    "kernelspec": {
      "name": "python3",
      "display_name": "Python 3"
    },
    "language_info": {
      "name": "python"
    }
  },
  "cells": [
    {
      "cell_type": "markdown",
      "metadata": {
        "id": "view-in-github",
        "colab_type": "text"
      },
      "source": [
        "<a href=\"https://colab.research.google.com/github/SHANMUGA000/RSA-ALGORITHM/blob/main/RSA_Algorithm.ipynb\" target=\"_parent\"><img src=\"https://colab.research.google.com/assets/colab-badge.svg\" alt=\"Open In Colab\"/></a>"
      ]
    },
    {
      "cell_type": "code",
      "execution_count": 1,
      "metadata": {
        "colab": {
          "base_uri": "https://localhost:8080/"
        },
        "id": "FdlE-Uz_f0Dl",
        "outputId": "9d988a6e-167b-4c14-ab22-ee20ef21824c"
      },
      "outputs": [
        {
          "output_type": "stream",
          "name": "stdout",
          "text": [
            "Original message: 42\n",
            "Encrypted message: 8246770974978921568089715182286881805413758596167125575415415380322428597067015208574421967190720881518016182548930866624864592921231933585710877947389385034341720235712380020491461969822372302001437902032199853518183231528307681330617575876097481492905032605170058758281857522535047942698938681266806260558424334995361221661735645581254489076342319130640972753679245452653532535155541156761552302457197747804435631869681902656744943291193304159099303659333504539195893472113634901938152611950204040154832183015130872045434065879373798363291059210675805982121684069873227615344605918130303552107468392951486365974645\n",
            "Decrypted message: 42\n"
          ]
        }
      ],
      "source": [
        "import random\n",
        "import math\n",
        "from sympy import isprime, mod_inverse\n",
        "\n",
        "def generate_prime(bits):\n",
        "    while True:\n",
        "        num = random.getrandbits(bits)\n",
        "        if isprime(num):\n",
        "            return num\n",
        "\n",
        "def generate_keypair(bits):\n",
        "    p = generate_prime(bits)\n",
        "    q = generate_prime(bits)\n",
        "\n",
        "    n = p * q\n",
        "    t = (p - 1) * (q - 1)\n",
        "\n",
        "    while True:\n",
        "        e = random.randrange(2, t)\n",
        "        if math.gcd(e, t) == 1:\n",
        "            break\n",
        "\n",
        "    d = mod_inverse(e, t)\n",
        "\n",
        "    return ((n, e), (n, d))\n",
        "\n",
        "def RSA(message, pubkey):\n",
        "    n, e = pubkey\n",
        "    ct = pow(message, e, n)\n",
        "    return ct\n",
        "\n",
        "def decrypt(ct, privkey):\n",
        "    n, d = privkey\n",
        "    mes = pow(ct, d, n)\n",
        "    return mes\n",
        "\n",
        "# Generate a key pair with 1024-bit primes\n",
        "keypair = generate_keypair(1024)\n",
        "\n",
        "# Encrypt and decrypt a message\n",
        "message = 42\n",
        "ct = RSA(message, keypair[0])\n",
        "mes = decrypt(ct, keypair[1])\n",
        "\n",
        "print(f\"Original message: {message}\")\n",
        "print(f\"Encrypted message: {ct}\")\n",
        "print(f\"Decrypted message: {mes}\")\n"
      ]
    }
  ]
}